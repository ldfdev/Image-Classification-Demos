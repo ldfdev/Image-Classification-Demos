{
 "cells": [
  {
   "cell_type": "code",
   "execution_count": 1,
   "metadata": {},
   "outputs": [],
   "source": [
    "import pandas as pd\n",
    "import numpy as np\n",
    "import os\n",
    "import matplotlib.pyplot as plt\n",
    "import seaborn as sns\n",
    "\n",
    "plt.rcParams['figure.figsize'] = (20, 12)\n",
    "%matplotlib inline"
   ]
  },
  {
   "cell_type": "code",
   "execution_count": 8,
   "metadata": {},
   "outputs": [],
   "source": [
    "PATH = '../data/'\n",
    "data_file = 'train.csv'\n",
    "data = pd.read_csv(os.path.join(PATH, data_file))#.set_index('Image')"
   ]
  },
  {
   "cell_type": "code",
   "execution_count": 9,
   "metadata": {},
   "outputs": [
    {
     "data": {
      "text/html": [
       "<div>\n",
       "<style scoped>\n",
       "    .dataframe tbody tr th:only-of-type {\n",
       "        vertical-align: middle;\n",
       "    }\n",
       "\n",
       "    .dataframe tbody tr th {\n",
       "        vertical-align: top;\n",
       "    }\n",
       "\n",
       "    .dataframe thead th {\n",
       "        text-align: right;\n",
       "    }\n",
       "</style>\n",
       "<table border=\"1\" class=\"dataframe\">\n",
       "  <thead>\n",
       "    <tr style=\"text-align: right;\">\n",
       "      <th></th>\n",
       "      <th>Image</th>\n",
       "      <th>Whale_ID</th>\n",
       "    </tr>\n",
       "  </thead>\n",
       "  <tbody>\n",
       "    <tr>\n",
       "      <th>0</th>\n",
       "      <td>0000e88ab.jpg</td>\n",
       "      <td>w_f48451c</td>\n",
       "    </tr>\n",
       "    <tr>\n",
       "      <th>1</th>\n",
       "      <td>0001f9222.jpg</td>\n",
       "      <td>w_c3d896a</td>\n",
       "    </tr>\n",
       "    <tr>\n",
       "      <th>2</th>\n",
       "      <td>00029d126.jpg</td>\n",
       "      <td>w_20df2c5</td>\n",
       "    </tr>\n",
       "    <tr>\n",
       "      <th>3</th>\n",
       "      <td>00050a15a.jpg</td>\n",
       "      <td>new_whale</td>\n",
       "    </tr>\n",
       "    <tr>\n",
       "      <th>4</th>\n",
       "      <td>0005c1ef8.jpg</td>\n",
       "      <td>new_whale</td>\n",
       "    </tr>\n",
       "    <tr>\n",
       "      <th>5</th>\n",
       "      <td>0006e997e.jpg</td>\n",
       "      <td>new_whale</td>\n",
       "    </tr>\n",
       "    <tr>\n",
       "      <th>6</th>\n",
       "      <td>000a6daec.jpg</td>\n",
       "      <td>w_dd88965</td>\n",
       "    </tr>\n",
       "    <tr>\n",
       "      <th>7</th>\n",
       "      <td>000f0f2bf.jpg</td>\n",
       "      <td>new_whale</td>\n",
       "    </tr>\n",
       "    <tr>\n",
       "      <th>8</th>\n",
       "      <td>0016b897a.jpg</td>\n",
       "      <td>w_64404ac</td>\n",
       "    </tr>\n",
       "    <tr>\n",
       "      <th>9</th>\n",
       "      <td>001c1ac5f.jpg</td>\n",
       "      <td>w_a6f9d33</td>\n",
       "    </tr>\n",
       "  </tbody>\n",
       "</table>\n",
       "</div>"
      ],
      "text/plain": [
       "           Image   Whale_ID\n",
       "0  0000e88ab.jpg  w_f48451c\n",
       "1  0001f9222.jpg  w_c3d896a\n",
       "2  00029d126.jpg  w_20df2c5\n",
       "3  00050a15a.jpg  new_whale\n",
       "4  0005c1ef8.jpg  new_whale\n",
       "5  0006e997e.jpg  new_whale\n",
       "6  000a6daec.jpg  w_dd88965\n",
       "7  000f0f2bf.jpg  new_whale\n",
       "8  0016b897a.jpg  w_64404ac\n",
       "9  001c1ac5f.jpg  w_a6f9d33"
      ]
     },
     "execution_count": 9,
     "metadata": {},
     "output_type": "execute_result"
    }
   ],
   "source": [
    "data.columns = ['Image', 'Whale_ID']\n",
    "data.head(10)\n"
   ]
  },
  {
   "cell_type": "code",
   "execution_count": 4,
   "metadata": {},
   "outputs": [
    {
     "data": {
      "image/png": "[encoded data removed]",
      "text/plain": [
       "<Figure size 432x288 with 1 Axes>"
      ]
     },
     "metadata": {
      "needs_background": "light"
     },
     "output_type": "display_data"
    }
   ],
   "source": [
    "ax = sns.countplot(x=\"Whale_ID\", data=data)\n",
    "# _,_ = plt.hist(np.unique(data.Id.values),bins=100)\n",
    "# _,_ = plt.hist(data.Id.nunique(), bins=100)"
   ]
  },
  {
   "cell_type": "code",
   "execution_count": 13,
   "metadata": {
    "scrolled": true
   },
   "outputs": [
    {
     "data": {
      "text/plain": [
       "w_23a388d    73\n",
       "w_9b5109b    65\n",
       "w_9c506f6    62\n",
       "w_0369a5c    61\n",
       "w_700ebb4    57\n",
       "w_3de579a    54\n",
       "w_564a34b    51\n",
       "w_fd3e556    50\n",
       "w_88e4537    49\n",
       "w_2b069ba    48\n",
       "w_d405854    47\n",
       "w_789c969    45\n",
       "w_f0fe284    45\n",
       "w_343f088    40\n",
       "w_5e8e218    40\n",
       "w_778e474    40\n",
       "w_60ce6fc    37\n",
       "w_a9304b9    37\n",
       "w_5a2634c    37\n",
       "w_6822dbc    36\n",
       "w_af367c3    35\n",
       "w_f765256    34\n",
       "w_1ca9ab1    34\n",
       "w_17b0d3a    33\n",
       "w_d72771c    32\n",
       "w_08630fd    31\n",
       "w_8c25681    31\n",
       "w_6cda039    31\n",
       "w_04003e9    30\n",
       "w_51fc1fc    30\n",
       "             ..\n",
       "w_58ddf90     1\n",
       "w_f8dc1cc     1\n",
       "w_a763725     1\n",
       "w_169253a     1\n",
       "w_f6bae1a     1\n",
       "w_6d1f159     1\n",
       "w_b535cbd     1\n",
       "w_3853f4b     1\n",
       "w_e1b8378     1\n",
       "w_b2ef717     1\n",
       "w_a54ea89     1\n",
       "w_03ea6f9     1\n",
       "w_afe18e4     1\n",
       "w_a96ebe6     1\n",
       "w_01fc429     1\n",
       "w_ae8bd64     1\n",
       "w_a4d8d43     1\n",
       "w_362ebae     1\n",
       "w_668c588     1\n",
       "w_9072933     1\n",
       "w_0fb38fe     1\n",
       "w_30719c8     1\n",
       "w_931b78f     1\n",
       "w_d063697     1\n",
       "w_fc6f897     1\n",
       "w_8ad632d     1\n",
       "w_1eb67e3     1\n",
       "w_dfdfeeb     1\n",
       "w_b6de8e1     1\n",
       "w_6ee9b69     1\n",
       "Name: Whale_ID, Length: 5004, dtype: int64"
      ]
     },
     "execution_count": 13,
     "metadata": {},
     "output_type": "execute_result"
    }
   ],
   "source": [
    "data.loc[:,('Whale_ID')].str.strip()\n",
    "inp = data[data['Whale_ID']!='new_whale']\n",
    "inp['Whale_ID'].value_counts()"
   ]
  },
  {
   "cell_type": "markdown",
   "metadata": {},
   "source": [
    "Deci sunt **Name: Whale_ID, Length: 5004, dtype: int64** 5004 clase diferite\n",
    "\n",
    "Analizam cate apar o data, de doua ori, samd"
   ]
  },
  {
   "cell_type": "code",
   "execution_count": 17,
   "metadata": {},
   "outputs": [
    {
     "data": {
      "text/html": [
       "<div>\n",
       "<style scoped>\n",
       "    .dataframe tbody tr th:only-of-type {\n",
       "        vertical-align: middle;\n",
       "    }\n",
       "\n",
       "    .dataframe tbody tr th {\n",
       "        vertical-align: top;\n",
       "    }\n",
       "\n",
       "    .dataframe thead th {\n",
       "        text-align: right;\n",
       "    }\n",
       "</style>\n",
       "<table border=\"1\" class=\"dataframe\">\n",
       "  <thead>\n",
       "    <tr style=\"text-align: right;\">\n",
       "      <th></th>\n",
       "      <th>Whale_ID</th>\n",
       "      <th>Whale_freq</th>\n",
       "    </tr>\n",
       "  </thead>\n",
       "  <tbody>\n",
       "    <tr>\n",
       "      <th>0</th>\n",
       "      <td>w_23a388d</td>\n",
       "      <td>73</td>\n",
       "    </tr>\n",
       "    <tr>\n",
       "      <th>1</th>\n",
       "      <td>w_9b5109b</td>\n",
       "      <td>65</td>\n",
       "    </tr>\n",
       "    <tr>\n",
       "      <th>2</th>\n",
       "      <td>w_9c506f6</td>\n",
       "      <td>62</td>\n",
       "    </tr>\n",
       "    <tr>\n",
       "      <th>3</th>\n",
       "      <td>w_0369a5c</td>\n",
       "      <td>61</td>\n",
       "    </tr>\n",
       "    <tr>\n",
       "      <th>4</th>\n",
       "      <td>w_700ebb4</td>\n",
       "      <td>57</td>\n",
       "    </tr>\n",
       "  </tbody>\n",
       "</table>\n",
       "</div>"
      ],
      "text/plain": [
       "    Whale_ID  Whale_freq\n",
       "0  w_23a388d          73\n",
       "1  w_9b5109b          65\n",
       "2  w_9c506f6          62\n",
       "3  w_0369a5c          61\n",
       "4  w_700ebb4          57"
      ]
     },
     "execution_count": 17,
     "metadata": {},
     "output_type": "execute_result"
    }
   ],
   "source": [
    "stats_inp = pd.DataFrame(inp['Whale_ID'].value_counts()).reset_index()\n",
    "stats_inp.columns=['Whale_ID','Whale_freq']\n",
    "stats_inp.head()\n",
    "# stats_inp[stats_inp.Whale_]"
   ]
  },
  {
   "cell_type": "code",
   "execution_count": 30,
   "metadata": {},
   "outputs": [],
   "source": [
    "\n",
    "def display_training_imgs_by_class():\n",
    "    rows = 1\n",
    "    while display_training_imgs_by_class.class_count < 100:\n",
    "        rows,_ = stats_inp[stats_inp.Whale_freq == display_training_imgs_by_class.class_count].shape\n",
    "        if rows != 0:\n",
    "            yield '{rows},{freq}\\n'.format(rows=rows,freq=display_training_imgs_by_class.class_count)\n",
    "        display_training_imgs_by_class.class_count += 1\n",
    "\n",
    "display_training_imgs_by_class.class_count = 1\n",
    "f = open('images_per_class.csv','w')\n",
    "f.write('Num_of_classes,Num_training_imgs\\n')\n",
    "for result in display_training_imgs_by_class():\n",
    "    f.write(result)\n",
    "f.close()"
   ]
  },
  {
   "cell_type": "markdown",
   "metadata": {},
   "source": [
    "Deci pentru 2073 clase exista o singura imagine de antrenare"
   ]
  },
  {
   "cell_type": "markdown",
   "metadata": {},
   "source": [
    "new_whale apare de 9664. Pentru celelalte valori redam distributia frecventei de aparitie a unui individ, pentru toti indivizii, ca in figura.\n",
    "\n",
    "------insert fig\n",
    "\n",
    "tabelar, in ordinea descrescatoare a aparitiei aceste frecvente sunt:\n",
    "\\begin{tabular}{|c|c|}\n",
    "new_whale  &  9664\n",
    "w_23a388d  &    73\n",
    "w_9b5109b  &    65\n",
    "w_9c506f6  &    62\n",
    "w_0369a5c  &    61\n",
    "w_700ebb4  &    57\n",
    "w_3de579a  &    54\n",
    "w_564a34b  &    51\n",
    "w_fd3e556  &    50\n",
    "w_88e4537  &    49\n",
    "w_2b069ba  &    48\n",
    "w_d405854  &    47\n",
    "w_789c969  &    45\n",
    "w_f0fe284  &    45\n",
    "w_343f088  &    40\n",
    "w_778e474  &    40\n",
    "w_5e8e218  &    40\n",
    "w_5a2634c  &    37\n",
    "w_60ce6fc  &    37\n",
    "w_a9304b9  &    37\n",
    "w_6822dbc  &    36\n",
    "w_af367c3  &    35\n",
    "w_1ca9ab1  &    34\n",
    "w_f765256  &    34\n",
    "w_17b0d3a  &    33\n",
    "w_d72771c  &    32\n",
    "w_6cda039  &    31\n",
    "w_08630fd  &    31\n",
    "w_8c25681  &    31\n",
    "w_51fc1fc  &    30\n",
    "           &  ... \n",
    "w_b7ad0fb  &     1\n",
    "w_f8b7f05  &     1\n",
    "w_59f4653  &     1\n",
    "\\cdots     &     \\cdots\n",
    "\\end{tabular}"
   ]
  },
  {
   "cell_type": "code",
   "execution_count": 24,
   "metadata": {},
   "outputs": [
    {
     "data": {
      "text/plain": [
       "(4371, 1)"
      ]
     },
     "execution_count": 24,
     "metadata": {},
     "output_type": "execute_result"
    }
   ],
   "source": [
    "d = pd.DataFrame(data['Whale_ID'].value_counts())\n",
    "d[d.Whale_ID<=5].shape\n",
    "# 2073 rows"
   ]
  },
  {
   "cell_type": "code",
   "execution_count": 7,
   "metadata": {},
   "outputs": [
    {
     "data": {
      "image/png": "[encoded data removed]",
      "text/plain": [
       "<Figure size 360x360 with 1 Axes>"
      ]
     },
     "metadata": {
      "needs_background": "light"
     },
     "output_type": "display_data"
    }
   ],
   "source": [
    "#xa = sns.countplot(x=\"Whale_ID\", data=inp)\n",
    "a = sns.catplot(x=\"Whale_ID\",\n",
    "                data=inp, kind=\"count\",\n",
    "                legend_out=True, aspect=1,\n",
    "                order = inp['Whale_ID'].value_counts().index);\n",
    "sns.set(rc={'figure.figsize':(11.7,8.27)})"
   ]
  },
  {
   "cell_type": "code",
   "execution_count": 10,
   "metadata": {},
   "outputs": [
    {
     "data": {
      "text/plain": [
       "w_23a388d    73\n",
       "w_9b5109b    65\n",
       "w_9c506f6    62\n",
       "w_0369a5c    61\n",
       "w_700ebb4    57\n",
       "w_3de579a    54\n",
       "w_564a34b    51\n",
       "w_fd3e556    50\n",
       "w_88e4537    49\n",
       "w_2b069ba    48\n",
       "w_d405854    47\n",
       "w_789c969    45\n",
       "w_f0fe284    45\n",
       "w_778e474    40\n",
       "w_343f088    40\n",
       "w_5e8e218    40\n",
       "w_5a2634c    37\n",
       "w_60ce6fc    37\n",
       "w_a9304b9    37\n",
       "w_6822dbc    36\n",
       "w_af367c3    35\n",
       "w_1ca9ab1    34\n",
       "w_f765256    34\n",
       "w_17b0d3a    33\n",
       "w_d72771c    32\n",
       "w_08630fd    31\n",
       "w_8c25681    31\n",
       "w_6cda039    31\n",
       "w_51fc1fc    30\n",
       "w_fd6a3ad    30\n",
       "             ..\n",
       "w_527aa02     1\n",
       "w_81eb375     1\n",
       "w_92cb156     1\n",
       "w_14f15a0     1\n",
       "w_efc5e07     1\n",
       "w_cc9dfb5     1\n",
       "w_9d5968b     1\n",
       "w_6332313     1\n",
       "w_54c535e     1\n",
       "w_974c37d     1\n",
       "w_fcdda4c     1\n",
       "w_c9a569d     1\n",
       "w_0adb403     1\n",
       "w_cd2d796     1\n",
       "w_bf2ee79     1\n",
       "w_6301785     1\n",
       "w_2330989     1\n",
       "w_939a3c7     1\n",
       "w_c69c9be     1\n",
       "w_2757c07     1\n",
       "w_f2571bd     1\n",
       "w_7c718f4     1\n",
       "w_a65abbf     1\n",
       "w_bfecb74     1\n",
       "w_c720f04     1\n",
       "w_a3dc2bd     1\n",
       "w_fbe3f59     1\n",
       "w_527a019     1\n",
       "w_fd4376a     1\n",
       "w_9f30885     1\n",
       "Name: Whale_ID, Length: 5004, dtype: int64"
      ]
     },
     "execution_count": 10,
     "metadata": {},
     "output_type": "execute_result"
    }
   ],
   "source": [
    "#data.groupby('Whale_ID').nunique()\n",
    "viz = pd.DataFrame(inp['Whale_ID'].value_counts()"
   ]
  }
 ],
 "metadata": {
  "kernelspec": {
   "display_name": "Python 3",
   "language": "python",
   "name": "python3"
  },
  "language_info": {
   "codemirror_mode": {
    "name": "ipython",
    "version": 3
   },
   "file_extension": ".py",
   "mimetype": "text/x-python",
   "name": "python",
   "nbconvert_exporter": "python",
   "pygments_lexer": "ipython3",
   "version": "3.6.7"
  }
 },
 "nbformat": 4,
 "nbformat_minor": 2
}
