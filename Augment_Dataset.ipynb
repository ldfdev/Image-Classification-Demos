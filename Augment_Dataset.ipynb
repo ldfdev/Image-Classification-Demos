{
 "cells": [
  {
   "cell_type": "code",
   "execution_count": null,
   "metadata": {},
   "outputs": [],
   "source": [
    "import pandas as pd\n",
    "import numpy as np\n",
    "import os\n",
    "import matplotlib.pyplot as plt\n",
    "import torch, torchvision\n",
    "import PIL"
   ]
  },
  {
   "cell_type": "code",
   "execution_count": null,
   "metadata": {},
   "outputs": [],
   "source": [
    "original_data = pd.read_csv(os.path.join('../data/', 'train.csv'))\n",
    "original_data.columns = ['Image', 'Whale_ID']\n",
    "original_data = original_data[original_data.Whale_ID != 'new_whale']\n",
    "\n",
    "readLocation = '../data/train/'\n",
    "writeLocation = '../data/augmentedImages/'\n"
   ]
  },
  {
   "cell_type": "code",
   "execution_count": null,
   "metadata": {},
   "outputs": [],
   "source": [
    "class AugmentImage():\n",
    "    @staticmethod\n",
    "    def resize_if_needed(image):\n",
    "        image = torchvision.transforms.ToPILImage(image)\n",
    "        width, height = image.size\n",
    "        if (width < 299):\n",
    "            image=torchvision.transforms.Resize((299,height))\n",
    "        if (height < 299):\n",
    "            image=torchvision.transforms.Resize((width, 299))\n",
    "        return image\n",
    "    @staticmethod\n",
    "    def augment_image(img):\n",
    "        transform = torchvision.transforms.Compose([\n",
    "            torchvision.transforms.ToPILImage(),\n",
    "            torchvision.transforms.Lambda(resize_if_needed),\n",
    "            torchvision.transforms.TenCrop((299,299))]) # FiveCrop + HorizontalFlips\n",
    "        return transform(image)\n",
    "    @staticmethod\n",
    "    def gaussian_noise(img, mean=0, stddev=0.1):\n",
    "        noise = Variable(ins.data.new(img.size()).normal_(mean, stddev))\n",
    "        return img + noise\n",
    "    @staticmethod\n",
    "    def add_noise_and_saturate(img):\n",
    "        return torchvision.transforms.Compose([\n",
    "            ## saturation in clipping values outside of [0.0, 1.0] to 0 or 1\n",
    "            Lambda(gaussian_noise),\n",
    "            Lambda(x: np.clip(x, 0, 1))])(img)\n",
    "    @staticmethod\n",
    "    def general_transform(img):\n",
    "        return torchvision.transforms.Compose([\n",
    "            torchvision.transforms.ColorJitter(brightness=.04, hue=.05, saturation=.05),\n",
    "            torchvision.transforms.RandomHorizontalFlip(),\n",
    "            torchvision.transforms.RandomRotation(20, resample=Image.BILINEAR),\n",
    "            ])(img)\n",
    "    @staticmethod\n",
    "    def get_list_of_transformations(img):\n",
    "        img = AugmentImage.resize_if_needed(img)\n",
    "        l = [AugmentImage.general_transform(deepcopy(img)),\n",
    "             torchvision.transforms.RandomHorizontalFlip(deepcopy(img)),\n",
    "             torchvision.transforms.RandomRotation(17)(deepcopy(img))]\n",
    "             + AugmentImage.augment_image(deepcopy(img))\n",
    "#         l.map(lambda x:  torchvision.transforms.Compose([\n",
    "#             torchvision.transforms.ToTensor(),\n",
    "#             torchvision.transforms.Normalize([0.443,0.453,0.461], [0.51,0.48,0.5])])(x))\n",
    "        transformations = [\n",
    "            'brightness_flip_rotation',\n",
    "            'hflip',\n",
    "            'rotation',\n",
    "            'crop_tl',\n",
    "            'crop_tr',\n",
    "            'crop_bl',\n",
    "            'crop_br',\n",
    "            'crop_center',\n",
    "            'flipped_crop_tl',\n",
    "            'flipped_crop_tr',\n",
    "            'flipped_crop_bl',\n",
    "            'flipped_crop_br',\n",
    "            'flipped_crop_center'\n",
    "        ]\n",
    "        return l + [AugmentImage.add_noise_and_saturate(i) for i in l], transformations\n",
    "\n"
   ]
  },
  {
   "cell_type": "code",
   "execution_count": null,
   "metadata": {},
   "outputs": [],
   "source": [
    "maxLength = original_data.shape[0]\n",
    "for item in range(maxLength):\n",
    "    imageFile, imageLabel = original_data.iloc[item]\n",
    "    img = PIL.Image.open(os.path.join(writeLocatiom, imageFile))\n",
    "    listOfImgs = AugmentImage.get_list_of_transformations(img)\n",
    "    for newImage in listOfImgs:\n",
    "        newImage"
   ]
  },
  {
   "cell_type": "code",
   "execution_count": null,
   "metadata": {},
   "outputs": [],
   "source": [
    "new_data = original_data.copy()\n",
    "\n",
    "new_data.append({'Image': i,\n",
    "                 'Whale_ID':}, ignore_index=True)"
   ]
  }
 ],
 "metadata": {
  "kernelspec": {
   "display_name": "Python 3",
   "language": "python",
   "name": "python3"
  },
  "language_info": {
   "codemirror_mode": {
    "name": "ipython",
    "version": 3
   },
   "file_extension": ".py",
   "mimetype": "text/x-python",
   "name": "python",
   "nbconvert_exporter": "python",
   "pygments_lexer": "ipython3",
   "version": "3.6.7"
  }
 },
 "nbformat": 4,
 "nbformat_minor": 2
}
